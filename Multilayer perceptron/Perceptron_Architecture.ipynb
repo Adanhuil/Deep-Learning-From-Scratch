{
 "cells": [
  {
   "cell_type": "markdown",
   "metadata": {},
   "source": [
    "# Introduction\n",
    "\n",
    "In the following, we will consider the simplest problem that can be encountered in machine learning. We have an unknown function $x\\rightarrow f(x) \\in \\mathbb{R}$ and a set of points $\\mathcal{S}=\\{f\\left(x_i\\right), x_i \\in \\mathbb{R}\\}$ sampled from our function $f$. The goal is to find an approximate function of $f$ that is satisfactory for the real-world problem at hand. We will see in the following how neural network, with the help of deep learning, can handle these problems. The learning process where the correct answer $f(x_i)$ for each input $x_i$ is known is called supervised learning, as it is similar to a teacher knowing the answer and guiding the student to it."
   ]
  },
  {
   "cell_type": "markdown",
   "metadata": {},
   "source": [
    "## 1) Single neuron"
   ]
  },
  {
   "cell_type": "markdown",
   "metadata": {},
   "source": [
    "### Theory\n",
    "\n",
    "We begin our exploration of neural networks with their fundamental unit : a simple neuron with one input and one output. To the neuron is associated a weight $W$ and it is feeded with an input $x$ coming from the samples $\\mathcal{S}$. Based on this, the neuron outputs\n",
    "\n",
    "\\begin{equation*}\n",
    "    y = Wx.\n",
    "\\end{equation*}\n",
    "\n",
    "In supervised learning, the right answer $\\xi$ is known. Hence, we can quantify the difference between $\\xi$ and the prediction $y$ of the neuron\n",
    "\n",
    "\\begin{equation*}\n",
    "    \\delta = y-\\xi = Wx-\\xi\n",
    "\\end{equation*}\n",
    "\n",
    "A mean to quantify the error of the neuron is the squared deviation\n",
    "\n",
    "\\begin{equation*}\n",
    "    \\epsilon = \\left(y-\\xi \\right)^2 = \\left(W x-\\xi \\right)^2\n",
    "\\end{equation*}\n",
    "\n",
    "The goal in the learning process is to minimize $\\epsilon$ with respect to the weight $W$. For this, gradient descent is used, where we take the slope of the function $W\\rightarrow\\epsilon(W)$ to push the weight $W$ in the direction of the minimum of the function. Note that in the case of the squared deviation, the slope is given by\n",
    "\n",
    "\\begin{align}\n",
    "    \\frac{\\partial \\epsilon}{\\partial W} &= \\frac{\\partial}{\\partial W} \\left( Wx - \\xi\\right)^2 \\\\\n",
    "                                        &= 2\\left( Wx - \\xi\\right)x \\\\\n",
    "                                        & \\propto \\delta x \\\\     \n",
    "\\end{align}\n",
    "\n",
    "If the slope is too steep, we might push the weight too far and go beyond the minimum. To avoid this, we define a learning rate $\\alpha$ which is a given parameter of the learning process. Finally, we update the weight with the following formula\n",
    "\n",
    "\\begin{equation}\n",
    "    W' = W-\\alpha\\delta x\n",
    "\\end{equation}\n",
    "\n",
    "Now, let's look at how to code it in Julia."
   ]
  },
  {
   "cell_type": "markdown",
   "metadata": {},
   "source": [
    "### Code Julia\n",
    "\n",
    "We define a single neuron as a new structure that encodes a weight, $W$. This weight must be updated, so the structure has to be mutable."
   ]
  },
  {
   "cell_type": "code",
   "execution_count": 1,
   "metadata": {},
   "outputs": [],
   "source": [
    "mutable struct singleNeuronModel\n",
    "    W::Float64\n",
    "end"
   ]
  },
  {
   "cell_type": "markdown",
   "metadata": {},
   "source": [
    "We define on this structure a function which gives the prediction of the neuron as a product of the weight with the input."
   ]
  },
  {
   "cell_type": "code",
   "execution_count": 2,
   "metadata": {},
   "outputs": [],
   "source": [
    "(m::singleNeuronModel)(x) = m.W * x"
   ]
  },
  {
   "cell_type": "markdown",
   "metadata": {},
   "source": [
    "Let's instantiate a single neuron with a random weight."
   ]
  },
  {
   "cell_type": "code",
   "execution_count": 3,
   "metadata": {},
   "outputs": [
    {
     "data": {
      "text/plain": [
       "singleNeuronModel(0.8635939940957121)"
      ]
     },
     "metadata": {},
     "output_type": "display_data"
    }
   ],
   "source": [
    "model = singleNeuronModel(rand())"
   ]
  },
  {
   "cell_type": "markdown",
   "metadata": {},
   "source": [
    "Let's test this neuron with some dummy data and compute the error."
   ]
  },
  {
   "cell_type": "code",
   "execution_count": 4,
   "metadata": {},
   "outputs": [
    {
     "name": "stdout",
     "output_type": "stream",
     "text": [
      "4.31796997047856\n",
      "2.3179699704785603\n",
      "5.372984784040378\n"
     ]
    }
   ],
   "source": [
    "x = 5\n",
    "ξ = 2\n",
    "δ = model(x)- ξ\n",
    "ϵ = δ^2\n",
    "println(model(x))\n",
    "println(δ)\n",
    "println(ϵ)"
   ]
  },
  {
   "cell_type": "markdown",
   "metadata": {},
   "source": [
    "Of course, as the weight is random, so is the initial error. We now want to train our neuron to reduce the error. To do this, we update the weight recursively with the help of gradient descent. In the train! function, we denote the input $x\\equiv x_\\mathrm{train}$ and the right answer $\\xi\\equiv y_\\mathrm{train}$ as these are the training data on which the neuron can learn."
   ]
  },
  {
   "cell_type": "code",
   "execution_count": 5,
   "metadata": {},
   "outputs": [
    {
     "data": {
      "text/plain": [
       "train! (generic function with 1 method)"
      ]
     },
     "metadata": {},
     "output_type": "display_data"
    }
   ],
   "source": [
    "function train!(model, xtrain, ytrain, α, iteration)\n",
    "    for i in 1:iteration\n",
    "        y = model(xtrain) #Compute the prediction from the model\n",
    "        δ = y - ytrain #Difference between the prediction and the expectation\n",
    "        ϵ = δ^2 #Error computed with the mean squared\n",
    "        model.W = model.W -(δ*xtrain*α) #Update the weight\n",
    "        @show ϵ\n",
    "    end\n",
    "end"
   ]
  },
  {
   "cell_type": "markdown",
   "metadata": {},
   "source": [
    "This function takes as arguments our neuron, an input and the corresponding answer but also a learning rate $\\alpha$ and the number of times that we want the weight to be updated. Let's see how the error evolves at each iteration."
   ]
  },
  {
   "cell_type": "code",
   "execution_count": 6,
   "metadata": {},
   "outputs": [
    {
     "name": "stdout",
     "output_type": "stream",
     "text": [
      "ϵ = 5.372984784040378\n",
      "ϵ = 3.0223039410227117\n",
      "ϵ = 1.7000459668252765\n",
      "ϵ = 0.9562758563392176\n",
      "ϵ = 0.5379051691908092\n",
      "ϵ = 0.30257165766983035\n",
      "ϵ = 0.17019655743927967\n",
      "ϵ = 0.09573556355959453\n",
      "ϵ = 0.05385125450227208\n",
      "ϵ = 0.030291330657528044\n",
      "ϵ = 0.017038873494859524\n",
      "ϵ = 0.009584366340858462\n",
      "ϵ = 0.005391206066732917\n",
      "ϵ = 0.0030325534125372534\n",
      "ϵ = 0.001705811294552196\n",
      "ϵ = 0.0009595188531856171\n",
      "ϵ = 0.0005397293549168993\n",
      "ϵ = 0.00030359776214075585\n",
      "ϵ = 0.00017077374120418387\n",
      "ϵ = 9.606022942734908e-5\n",
      "ϵ = 5.403387905288712e-5\n",
      "ϵ = 3.039405696724533e-5\n",
      "ϵ = 1.7096657044077336e-5\n",
      "ϵ = 9.616869587292813e-6\n",
      "ϵ = 5.409489142852207e-6\n",
      "ϵ = 3.042837642854754e-6\n",
      "ϵ = 1.7115961741055085e-6\n",
      "ϵ = 9.627728479347843e-7\n",
      "ϵ = 5.41559726962826e-7\n",
      "ϵ = 3.046273464168347e-7\n"
     ]
    }
   ],
   "source": [
    "train!(model, x, ξ, 0.01, 30)"
   ]
  },
  {
   "cell_type": "markdown",
   "metadata": {},
   "source": [
    "The error reduces as expected ! Of course, a single neuron is unable to approximate complex functions. To get more flexibility, we need more neurons and some sort of non-linearity."
   ]
  },
  {
   "cell_type": "markdown",
   "metadata": {},
   "source": []
  }
 ],
 "metadata": {
  "kernelspec": {
   "display_name": "Julia 1.11.3",
   "language": "julia",
   "name": "julia-1.11"
  },
  "language_info": {
   "file_extension": ".jl",
   "mimetype": "application/julia",
   "name": "julia",
   "version": "1.11.3"
  }
 },
 "nbformat": 4,
 "nbformat_minor": 2
}
